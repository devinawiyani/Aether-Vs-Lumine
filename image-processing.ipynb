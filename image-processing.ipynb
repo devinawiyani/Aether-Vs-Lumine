{
 "cells": [
  {
   "cell_type": "code",
   "execution_count": 1,
   "metadata": {},
   "outputs": [],
   "source": [
    "import cv2\n",
    "import mss\n",
    "import os\n",
    "import uuid\n",
    "import time"
   ]
  },
  {
   "cell_type": "markdown",
   "metadata": {},
   "source": [
    "## Data Collection"
   ]
  },
  {
   "cell_type": "markdown",
   "metadata": {},
   "source": [
    "#### Capture in-game screenshots"
   ]
  },
  {
   "cell_type": "code",
   "execution_count": 37,
   "metadata": {},
   "outputs": [],
   "source": [
    "IMAGE_PATH = os.path.join('images', 'lumine','lumine2')"
   ]
  },
  {
   "cell_type": "code",
   "execution_count": 40,
   "metadata": {},
   "outputs": [
    {
     "name": "stdout",
     "output_type": "stream",
     "text": [
      "Collecting image 1\n",
      "Collecting image 2\n",
      "Collecting image 3\n",
      "Collecting image 4\n",
      "Collecting image 5\n",
      "Collecting image 6\n",
      "Collecting image 7\n",
      "Collecting image 8\n",
      "Collecting image 9\n",
      "Collecting image 10\n",
      "Screenshots captured successfully.\n"
     ]
    }
   ],
   "source": [
    "time.sleep(5)\n",
    "with mss.mss() as sct:\n",
    "    for imgnum in range(10):\n",
    "\n",
    "        print(f'Collecting image {imgnum + 1}')\n",
    "\n",
    "        # Capture a screenshot of the entire screen\n",
    "        screenshot = sct.shot(output=os.path.join(IMAGE_PATH, f'screenshot_{str(uuid.uuid1())}.png'))\n",
    "\n",
    "        # Sleep for a specified interval (e.g., 1 second)\n",
    "        # Adjust the interval to your preference\n",
    "        time.sleep(1)\n",
    "\n",
    "print(\"Screenshots captured successfully.\")"
   ]
  },
  {
   "cell_type": "markdown",
   "metadata": {},
   "source": [
    "### Annotate Image with LabelMe"
   ]
  },
  {
   "cell_type": "code",
   "execution_count": 41,
   "metadata": {},
   "outputs": [
    {
     "name": "stderr",
     "output_type": "stream",
     "text": [
      "[INFO   ] __init__:get_config:70 - Loading config file from: C:\\Users\\Asus\\.labelmerc\n",
      "Qt: Untested Windows version 10.0 detected!\n",
      "Qt: Untested Windows version 10.0 detected!\n",
      "Qt: Untested Windows version 10.0 detected!\n",
      "Qt: Untested Windows version 10.0 detected!\n",
      "Qt: Untested Windows version 10.0 detected!\n",
      "Qt: Untested Windows version 10.0 detected!\n",
      "Qt: Untested Windows version 10.0 detected!\n",
      "Qt: Untested Windows version 10.0 detected!\n",
      "Qt: Untested Windows version 10.0 detected!\n",
      "Qt: Untested Windows version 10.0 detected!\n",
      "Qt: Untested Windows version 10.0 detected!\n",
      "Qt: Untested Windows version 10.0 detected!\n",
      "Qt: Untested Windows version 10.0 detected!\n",
      "Qt: Untested Windows version 10.0 detected!\n",
      "Qt: Untested Windows version 10.0 detected!\n",
      "Qt: Untested Windows version 10.0 detected!\n",
      "Qt: Untested Windows version 10.0 detected!\n",
      "Qt: Untested Windows version 10.0 detected!\n",
      "Qt: Untested Windows version 10.0 detected!\n",
      "Qt: Untested Windows version 10.0 detected!\n",
      "Qt: Untested Windows version 10.0 detected!\n",
      "Qt: Untested Windows version 10.0 detected!\n",
      "Qt: Untested Windows version 10.0 detected!\n",
      "Qt: Untested Windows version 10.0 detected!\n",
      "Qt: Untested Windows version 10.0 detected!\n"
     ]
    }
   ],
   "source": [
    "!labelme"
   ]
  },
  {
   "cell_type": "code",
   "execution_count": null,
   "metadata": {},
   "outputs": [],
   "source": []
  }
 ],
 "metadata": {
  "kernelspec": {
   "display_name": "aether-vs-lumine-env",
   "language": "python",
   "name": "python3"
  },
  "language_info": {
   "codemirror_mode": {
    "name": "ipython",
    "version": 3
   },
   "file_extension": ".py",
   "mimetype": "text/x-python",
   "name": "python",
   "nbconvert_exporter": "python",
   "pygments_lexer": "ipython3",
   "version": "3.9.0"
  }
 },
 "nbformat": 4,
 "nbformat_minor": 2
}
